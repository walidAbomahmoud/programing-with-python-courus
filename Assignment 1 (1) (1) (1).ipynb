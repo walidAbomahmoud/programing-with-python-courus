{
 "cells": [
  {
   "cell_type": "markdown",
   "id": "derived-fraction",
   "metadata": {},
   "source": [
    "# Write the code that execute the following:"
   ]
  },
  {
   "cell_type": "markdown",
   "id": "designed-thesaurus",
   "metadata": {},
   "source": [
    "### Output:  We School"
   ]
  },
  {
   "cell_type": "code",
   "execution_count": 2,
   "id": "visible-summit",
   "metadata": {},
   "outputs": [
    {
     "name": "stdout",
     "output_type": "stream",
     "text": [
      "We School\n"
     ]
    }
   ],
   "source": [
    "print(\"We School\")"
   ]
  },
  {
   "cell_type": "code",
   "execution_count": null,
   "id": "exterior-rider",
   "metadata": {},
   "outputs": [],
   "source": []
  },
  {
   "cell_type": "markdown",
   "id": "colored-russian",
   "metadata": {},
   "source": [
    "### Declare variable with initial value your name and print it"
   ]
  },
  {
   "cell_type": "code",
   "execution_count": 3,
   "id": "mobile-lawyer",
   "metadata": {},
   "outputs": [
    {
     "name": "stdout",
     "output_type": "stream",
     "text": [
      "WALID\n"
     ]
    }
   ],
   "source": [
    "X=\"WALID\"\n",
    "print(X)"
   ]
  },
  {
   "cell_type": "markdown",
   "id": "selected-league",
   "metadata": {},
   "source": [
    "### Print the following output (WeSchool 2021) by using two variables"
   ]
  },
  {
   "cell_type": "code",
   "execution_count": 7,
   "id": "north-committee",
   "metadata": {},
   "outputs": [
    {
     "name": "stdout",
     "output_type": "stream",
     "text": [
      "We School 2021\n"
     ]
    }
   ],
   "source": [
    "X= \"We School\"\n",
    "Y= \" 2021\"\n",
    "print(X+Y)"
   ]
  },
  {
   "cell_type": "code",
   "execution_count": null,
   "id": "loaded-accuracy",
   "metadata": {},
   "outputs": [],
   "source": []
  },
  {
   "cell_type": "markdown",
   "id": "copyrighted-prevention",
   "metadata": {},
   "source": [
    "### Declare variable a with initial value 2.0 and get it's data type by using type function, repeat by another variables with another data types"
   ]
  },
  {
   "cell_type": "code",
   "execution_count": 3,
   "id": "solid-cyprus",
   "metadata": {},
   "outputs": [
    {
     "name": "stdout",
     "output_type": "stream",
     "text": [
      "<class 'float'>\n"
     ]
    }
   ],
   "source": [
    "X=2.0\n",
    "print(type(X))"
   ]
  },
  {
   "cell_type": "code",
   "execution_count": 4,
   "id": "exterior-mercy",
   "metadata": {},
   "outputs": [
    {
     "name": "stdout",
     "output_type": "stream",
     "text": [
      "<class 'int'>\n"
     ]
    }
   ],
   "source": [
    "Y=5\n",
    "print(type(Y))"
   ]
  },
  {
   "cell_type": "code",
   "execution_count": 6,
   "id": "enclosed-helmet",
   "metadata": {},
   "outputs": [
    {
     "name": "stdout",
     "output_type": "stream",
     "text": [
      "<class 'str'>\n"
     ]
    }
   ],
   "source": [
    "D=\"WALID\"\n",
    "print(type(D))"
   ]
  },
  {
   "cell_type": "markdown",
   "id": "super-automation",
   "metadata": {},
   "source": [
    "### Declare string variable with value \"I am in we school, grade 1\"  ,then:"
   ]
  },
  {
   "cell_type": "code",
   "execution_count": 9,
   "id": "standing-underwear",
   "metadata": {},
   "outputs": [
    {
     "name": "stdout",
     "output_type": "stream",
     "text": [
      "26\n"
     ]
    }
   ],
   "source": [
    "X=\"I am in we school, grade 1\"\n",
    "print(len(X))"
   ]
  },
  {
   "cell_type": "markdown",
   "id": "adjacent-compression",
   "metadata": {},
   "source": [
    "#### 1) get length of it"
   ]
  },
  {
   "cell_type": "code",
   "execution_count": null,
   "id": "conceptual-dominant",
   "metadata": {},
   "outputs": [],
   "source": []
  },
  {
   "cell_type": "markdown",
   "id": "continued-advertiser",
   "metadata": {},
   "source": [
    "#### 2) check if word \"WE\" is in the string or not"
   ]
  },
  {
   "cell_type": "code",
   "execution_count": 11,
   "id": "extensive-patrick",
   "metadata": {},
   "outputs": [
    {
     "name": "stdout",
     "output_type": "stream",
     "text": [
      "False\n"
     ]
    }
   ],
   "source": [
    "X= \"I am in we school, grade 1\"\n",
    "print(\"WE\" in X)"
   ]
  },
  {
   "cell_type": "markdown",
   "id": "choice-evening",
   "metadata": {},
   "source": [
    "#### 3)Modify string to \"I am in we school,grade 2\" by using replace() method"
   ]
  },
  {
   "cell_type": "code",
   "execution_count": 1,
   "id": "amber-department",
   "metadata": {},
   "outputs": [
    {
     "name": "stdout",
     "output_type": "stream",
     "text": [
      "I am in we school, grade 2\n"
     ]
    }
   ],
   "source": [
    "A=\"I am in we school, grade 1\" \n",
    "print(A.replace(\"1\" , \"2\"))"
   ]
  },
  {
   "cell_type": "markdown",
   "id": "weighted-pound",
   "metadata": {},
   "source": [
    "#### 4)Modify string to be in uppercase (capital letters)"
   ]
  },
  {
   "cell_type": "code",
   "execution_count": 2,
   "id": "dental-convertible",
   "metadata": {},
   "outputs": [
    {
     "name": "stdout",
     "output_type": "stream",
     "text": [
      "WE SCHOOL\n"
     ]
    }
   ],
   "source": [
    "A= \"we school\"\n",
    "print(A.upper())"
   ]
  },
  {
   "cell_type": "markdown",
   "id": "magnetic-duration",
   "metadata": {},
   "source": [
    "#### 5) Split string on every white space (  ) "
   ]
  },
  {
   "cell_type": "code",
   "execution_count": 16,
   "id": "aerial-keyboard",
   "metadata": {},
   "outputs": [
    {
     "name": "stdout",
     "output_type": "stream",
     "text": [
      "['I am', 'In', 'We', 'School', 'grade', '1']\n"
     ]
    }
   ],
   "source": [
    "X= \"I am,In,We,School,grade,1\"\n",
    "print(X.split(\",\"))\n"
   ]
  },
  {
   "cell_type": "markdown",
   "id": "purple-grade",
   "metadata": {},
   "source": [
    "#### 6) Write the sring by format method with words \"I\" and \"we\" and \"school\" as variables"
   ]
  },
  {
   "cell_type": "code",
   "execution_count": 5,
   "id": "played-cigarette",
   "metadata": {},
   "outputs": [
    {
     "name": "stdout",
     "output_type": "stream",
     "text": [
      "my name is walid and I am in grade 1\n"
     ]
    }
   ],
   "source": [
    "grade = 1\n",
    "school= \"we school\"\n",
    "print(\"my name is walid and I am in grade {}\".format(grade,school))"
   ]
  },
  {
   "cell_type": "markdown",
   "id": "understood-beatles",
   "metadata": {},
   "source": [
    "### Divide 11 by 2 and get result in float form"
   ]
  },
  {
   "cell_type": "code",
   "execution_count": 6,
   "id": "beginning-homework",
   "metadata": {},
   "outputs": [
    {
     "data": {
      "text/plain": [
       "5.5"
      ]
     },
     "execution_count": 6,
     "metadata": {},
     "output_type": "execute_result"
    }
   ],
   "source": [
    "11/2"
   ]
  },
  {
   "cell_type": "markdown",
   "id": "protective-identification",
   "metadata": {},
   "source": [
    "### Divide 11 by 2 and get result in integer form"
   ]
  },
  {
   "cell_type": "code",
   "execution_count": 11,
   "id": "wicked-insured",
   "metadata": {},
   "outputs": [
    {
     "data": {
      "text/plain": [
       "5"
      ]
     },
     "execution_count": 11,
     "metadata": {},
     "output_type": "execute_result"
    }
   ],
   "source": [
    "11//2"
   ]
  },
  {
   "cell_type": "markdown",
   "id": "architectural-representative",
   "metadata": {},
   "source": [
    "### Divide 11 by 2 and get result in string form by using casting"
   ]
  },
  {
   "cell_type": "code",
   "execution_count": 7,
   "id": "traditional-plenty",
   "metadata": {},
   "outputs": [
    {
     "name": "stdout",
     "output_type": "stream",
     "text": [
      "5.5\n",
      "<class 'int'>\n",
      "<class 'int'>\n"
     ]
    }
   ],
   "source": [
    "X=11\n",
    "Y=2\n",
    "print(X/Y)\n",
    "print(type(X))\n",
    "print(type(Y))"
   ]
  },
  {
   "cell_type": "markdown",
   "id": "anonymous-helena",
   "metadata": {},
   "source": [
    "### Get the reminder when you divide 11 by 2"
   ]
  },
  {
   "cell_type": "code",
   "execution_count": null,
   "id": "accurate-search",
   "metadata": {},
   "outputs": [],
   "source": []
  },
  {
   "cell_type": "markdown",
   "id": "offshore-travel",
   "metadata": {},
   "source": [
    "### Make user enter his age as input, then add 5 to his age. (make the required to prevent error ocuured)"
   ]
  },
  {
   "cell_type": "code",
   "execution_count": 1,
   "id": "statistical-bidding",
   "metadata": {},
   "outputs": [
    {
     "name": "stdout",
     "output_type": "stream",
     "text": [
      "21\n"
     ]
    }
   ],
   "source": [
    "WALID=16 \n",
    "W=5 \n",
    "print(WALID+W)"
   ]
  },
  {
   "cell_type": "markdown",
   "id": "roman-diesel",
   "metadata": {},
   "source": [
    "### Declare variable with boolean value, then print it's type by using type function"
   ]
  },
  {
   "cell_type": "code",
   "execution_count": 9,
   "id": "offshore-principal",
   "metadata": {},
   "outputs": [
    {
     "name": "stdout",
     "output_type": "stream",
     "text": [
      "<class 'str'>\n"
     ]
    }
   ],
   "source": [
    "A='True'\n",
    "print(type(A))"
   ]
  },
  {
   "cell_type": "markdown",
   "id": "surface-queensland",
   "metadata": {},
   "source": [
    "### Declare this list in variable ['tennis','swimmig','pingpong','handball','volley']"
   ]
  },
  {
   "cell_type": "markdown",
   "id": "consecutive-plane",
   "metadata": {},
   "source": [
    "### 1) access item \"pingpong\" from the list "
   ]
  },
  {
   "cell_type": "code",
   "execution_count": 3,
   "id": "threatened-newman",
   "metadata": {},
   "outputs": [
    {
     "name": "stdout",
     "output_type": "stream",
     "text": [
      "pingpong\n"
     ]
    }
   ],
   "source": [
    "X=['tennis\",\"swimming',\"pingpong\",\"handball\",\"volley\"]\n",
    "print(X[1])"
   ]
  },
  {
   "cell_type": "markdown",
   "id": "middle-contributor",
   "metadata": {},
   "source": [
    "### 3) Modify list to be ['tennis','swimming','pingpong','football','volley'] without declaring new list"
   ]
  },
  {
   "cell_type": "code",
   "execution_count": 1,
   "id": "controlling-robert",
   "metadata": {},
   "outputs": [
    {
     "name": "stdout",
     "output_type": "stream",
     "text": [
      "['tennis', 'swimming', 'handball', 'volley']\n"
     ]
    }
   ],
   "source": [
    "X=[\"tennis\",\"swimming\",\"pingpong\",\"handball\",\"volley\"]\n",
    "X.remove(\"pingpong\")\n",
    "print(X)"
   ]
  },
  {
   "cell_type": "markdown",
   "id": "sonic-communications",
   "metadata": {},
   "source": [
    "### 4) add item 'squash' at order number 3 in list"
   ]
  },
  {
   "cell_type": "code",
   "execution_count": 3,
   "id": "dependent-albert",
   "metadata": {},
   "outputs": [
    {
     "name": "stdout",
     "output_type": "stream",
     "text": [
      "['tennis', 'swimming', 'pingpong', 'squash', 'volley']\n"
     ]
    }
   ],
   "source": [
    "X=[\"tennis\",\"swimming\",\"pingpong\",\"handball\",\"volley\"]\n",
    "X[3]=\"squash\"\n",
    "print(X)"
   ]
  },
  {
   "cell_type": "markdown",
   "id": "stainless-estate",
   "metadata": {},
   "source": [
    "### 5) add item 'karatee' at the end of the list"
   ]
  },
  {
   "cell_type": "code",
   "execution_count": 4,
   "id": "deadly-robinson",
   "metadata": {},
   "outputs": [
    {
     "name": "stdout",
     "output_type": "stream",
     "text": [
      "['tennis', 'swimming', 'pinpong', 'handball', 'volley', 'karatee']\n"
     ]
    }
   ],
   "source": [
    "X=[\"tennis\",\"swimming\",\"pinpong\",\"handball\",\"volley\"]\n",
    "X.append(\"karatee\")\n",
    "print(X)"
   ]
  },
  {
   "cell_type": "markdown",
   "id": "modular-statement",
   "metadata": {},
   "source": [
    "### 6) remove 'tennis' from list "
   ]
  },
  {
   "cell_type": "code",
   "execution_count": 2,
   "id": "psychological-millennium",
   "metadata": {},
   "outputs": [
    {
     "name": "stdout",
     "output_type": "stream",
     "text": [
      "['swimming', 'pingpong', 'handball', 'volley']\n"
     ]
    }
   ],
   "source": [
    "X=[\"tennis\",\"swimming\",\"pingpong\",\"handball\",\"volley\"]\n",
    "X.remove(\"tennis\")\n",
    "print(X)"
   ]
  },
  {
   "cell_type": "markdown",
   "id": "entitled-clarity",
   "metadata": {},
   "source": [
    "### 8)Declare new list ['running','walking'] then merge it with the main previous list"
   ]
  },
  {
   "cell_type": "code",
   "execution_count": 3,
   "id": "injured-spouse",
   "metadata": {},
   "outputs": [
    {
     "name": "stdout",
     "output_type": "stream",
     "text": [
      "['tennis', 'swimming', 'pingpong', 'handball', 'volley', 'running', 'walking']\n"
     ]
    }
   ],
   "source": [
    "list1=[\"tennis\",\"swimming\",\"pingpong\",\"handball\",\"volley\"]\n",
    "list2=[\"running\",\"walking\"]\n",
    "list1.extend(list2)\n",
    "print(list1)"
   ]
  }
 ],
 "metadata": {
  "kernelspec": {
   "display_name": "Python 3",
   "language": "python",
   "name": "python3"
  },
  "language_info": {
   "codemirror_mode": {
    "name": "ipython",
    "version": 3
   },
   "file_extension": ".py",
   "mimetype": "text/x-python",
   "name": "python",
   "nbconvert_exporter": "python",
   "pygments_lexer": "ipython3",
   "version": "3.7.8"
  }
 },
 "nbformat": 4,
 "nbformat_minor": 5
}
